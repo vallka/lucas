{
 "cells": [
  {
   "cell_type": "code",
   "execution_count": 1,
   "metadata": {},
   "outputs": [],
   "source": [
    "url = 'https://blog2.gellifique.co.uk/api/v1/translate/'"
   ]
  },
  {
   "cell_type": "code",
   "execution_count": 2,
   "metadata": {},
   "outputs": [],
   "source": [
    "import requests\n",
    "import json\n"
   ]
  },
  {
   "cell_type": "code",
   "execution_count": 8,
   "metadata": {},
   "outputs": [],
   "source": [
    "data = {\n",
    "    'q':'translate me',\n",
    "    'source':'en',\n",
    "    'target':['es','fr','de','ro','it','pl','uk']\n",
    "}"
   ]
  },
  {
   "cell_type": "code",
   "execution_count": 9,
   "metadata": {},
   "outputs": [
    {
     "data": {
      "text/plain": [
       "<Response [200]>"
      ]
     },
     "execution_count": 9,
     "metadata": {},
     "output_type": "execute_result"
    }
   ],
   "source": [
    "res = requests.post(url,json =  data)\n",
    "res"
   ]
  },
  {
   "cell_type": "code",
   "execution_count": 10,
   "metadata": {},
   "outputs": [
    {
     "data": {
      "text/plain": [
       "b'{\"ok\": true, \"translated_texts\": {\"es\": [\"traduceme\"], \"fr\": [\"Traduis-moi\"], \"de\": [\"\\\\u00fcbersetze mich\"], \"ro\": [\"traduce-m\\\\u0103\"], \"it\": [\"traducimi\"], \"pl\": [\"przet\\\\u0142umacz mi\"], \"uk\": [\"\\\\u043f\\\\u0435\\\\u0440\\\\u0435\\\\u043a\\\\u043b\\\\u0430\\\\u0434\\\\u0438 \\\\u043c\\\\u0435\\\\u043d\\\\u0435\"]}}'"
      ]
     },
     "execution_count": 10,
     "metadata": {},
     "output_type": "execute_result"
    }
   ],
   "source": [
    "res.content"
   ]
  }
 ],
 "metadata": {
  "kernelspec": {
   "display_name": ".venv",
   "language": "python",
   "name": "python3"
  },
  "language_info": {
   "codemirror_mode": {
    "name": "ipython",
    "version": 3
   },
   "file_extension": ".py",
   "mimetype": "text/x-python",
   "name": "python",
   "nbconvert_exporter": "python",
   "pygments_lexer": "ipython3",
   "version": "3.8.5"
  },
  "orig_nbformat": 4
 },
 "nbformat": 4,
 "nbformat_minor": 2
}
