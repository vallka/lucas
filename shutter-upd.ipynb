{
 "cells": [
  {
   "cell_type": "code",
   "execution_count": null,
   "metadata": {},
   "outputs": [],
   "source": [
    "import os\n",
    "os.environ[\"DJANGO_ALLOW_ASYNC_UNSAFE\"] = \"true\"\n",
    "import django\n",
    "django.setup()"
   ]
  },
  {
   "cell_type": "code",
   "execution_count": null,
   "metadata": {},
   "outputs": [],
   "source": [
    "from django.db import connection\n",
    "connection.connect()"
   ]
  },
  {
   "cell_type": "code",
   "execution_count": null,
   "metadata": {},
   "outputs": [],
   "source": [
    "from fotoweb.models import *"
   ]
  },
  {
   "cell_type": "code",
   "execution_count": null,
   "metadata": {},
   "outputs": [],
   "source": [
    "from selenium import webdriver\n",
    "from selenium.webdriver.common.by import By\n",
    "from selenium.webdriver.support import expected_conditions\n",
    "from selenium.webdriver.support.wait import WebDriverWait\n",
    "from selenium.webdriver.common.keys import Keys\n",
    "from selenium.webdriver.chrome.options import Options"
   ]
  },
  {
   "cell_type": "code",
   "execution_count": null,
   "metadata": {},
   "outputs": [],
   "source": [
    "from selenium import webdriver\n",
    "from selenium.webdriver.common.by import By\n",
    "from selenium.webdriver.support import expected_conditions\n",
    "from selenium.webdriver.support.wait import WebDriverWait\n",
    "from selenium.webdriver.common.keys import Keys\n",
    "from selenium.webdriver.chrome.options import Options\n",
    "from selenium.webdriver.chrome.service import Service\n",
    "\n",
    "class SelDriver():\n",
    "  def __init__(self,dbg=False):\n",
    "    chrome_options = Options()\n",
    "    #chrome_options.add_argument(\"--headless\")\n",
    "    if dbg:\n",
    "        chrome_options.add_experimental_option(\"debuggerAddress\", \"127.0.0.1:9222\")\n",
    "    #Change chrome driver path accordingly\n",
    "    #chrome_driver = \"chromedriver.exe\n",
    "    #chrome_driver = r\"c:\\programs\\chrome-win64\"\n",
    "    service = Service()\n",
    "    self.driver = webdriver.Chrome(service=service, options=chrome_options)\n",
    "    print (self.driver)\n",
    "    self.driver.implicitly_wait(5)\n",
    "    self.vars = {}"
   ]
  },
  {
   "cell_type": "code",
   "execution_count": null,
   "metadata": {},
   "outputs": [],
   "source": [
    "driver=SelDriver(False)"
   ]
  },
  {
   "cell_type": "code",
   "execution_count": null,
   "metadata": {},
   "outputs": [],
   "source": [
    "\n",
    "#ee=driver.driver.find_elements(By.CSS_SELECTOR, '.cm-media-thumb img')\n",
    "ee=driver.driver.find_elements(By.CSS_SELECTOR, '.cm-media-thumb img')\n",
    "ee"
   ]
  },
  {
   "cell_type": "code",
   "execution_count": null,
   "metadata": {},
   "outputs": [],
   "source": [
    "srcs=[]\n",
    "for e in ee:\n",
    "    src=e.get_attribute('src')\n",
    "    r=re.search(r'(\\d+)\\.jpg',src)\n",
    "    print(src,r.group(1))\n",
    "    srcs.append(r.group(1))\n",
    "\n"
   ]
  },
  {
   "cell_type": "code",
   "execution_count": null,
   "metadata": {},
   "outputs": [],
   "source": [
    "images=[]\n",
    "for src in srcs:\n",
    "    driver.driver.get('https://submit.shutterstock.com/catalog_manager/images/'+src)\n",
    "    name = driver.driver.find_element(By.CSS_SELECTOR,'.o_List_List_itemText div').text\n",
    "    description = driver.driver.find_element(By.CSS_SELECTOR,'.o_EditorDescription_EditorDescription_descriptionInput').text\n",
    "    images.append({\n",
    "        'name':name,\n",
    "        'description':description,\n",
    "        'shutter-id':src\n",
    "    })\n",
    "    i=None\n",
    "    try:\n",
    "        i=Image.objects.get(name=name)\n",
    "        print(name,'found exact match')\n",
    "    except:\n",
    "        name = driver.driver.find_element(By.CSS_SELECTOR,'.o_List_List_itemText div').text.replace('.jpg','')\n",
    "        try:\n",
    "            i=Image.objects.filter(name__contains=name).first()\n",
    "            print(name,'found by contains')\n",
    "        except:\n",
    "            print(name,'NOT found')\n",
    "\n",
    "    if i and i.shutter:\n",
    "        print('already shutter')\n",
    "    elif i:\n",
    "        i.shutter_dt=i.updated_dt\n",
    "        i.title=driver.driver.find_element(By.CSS_SELECTOR,'.o_EditorDescription_EditorDescription_descriptionInput').text\n",
    "        i.shutter=True\n",
    "        i.shutter_url='https://submit.shutterstock.com/catalog_manager/images/'+src\n",
    "        i.save()\n",
    "        print('shutter updated')\n"
   ]
  },
  {
   "cell_type": "code",
   "execution_count": null,
   "metadata": {},
   "outputs": [],
   "source": [
    "images"
   ]
  },
  {
   "cell_type": "code",
   "execution_count": null,
   "metadata": {},
   "outputs": [],
   "source": [
    "ii"
   ]
  }
 ],
 "metadata": {
  "kernelspec": {
   "display_name": "Django Shell-Plus",
   "language": "python",
   "name": "django_extensions"
  },
  "language_info": {
   "codemirror_mode": {
    "name": "ipython",
    "version": 3
   },
   "file_extension": ".py",
   "mimetype": "text/x-python",
   "name": "python",
   "nbconvert_exporter": "python",
   "pygments_lexer": "ipython3",
   "version": "3.8.5"
  },
  "orig_nbformat": 4,
  "vscode": {
   "interpreter": {
    "hash": "10da27bddd3377f40093df844bafe61c564a0568439e5eb1f993e4e158715d8c"
   }
  }
 },
 "nbformat": 4,
 "nbformat_minor": 2
}
