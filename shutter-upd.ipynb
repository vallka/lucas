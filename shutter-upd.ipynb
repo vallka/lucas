{
 "cells": [
  {
   "cell_type": "code",
   "execution_count": 1,
   "metadata": {},
   "outputs": [],
   "source": [
    "import os\n",
    "os.environ[\"DJANGO_ALLOW_ASYNC_UNSAFE\"] = \"true\"\n",
    "import django\n",
    "django.setup()"
   ]
  },
  {
   "cell_type": "code",
   "execution_count": 2,
   "metadata": {},
   "outputs": [],
   "source": [
    "from django.db import connection\n",
    "connection.connect()"
   ]
  },
  {
   "cell_type": "code",
   "execution_count": 3,
   "metadata": {},
   "outputs": [],
   "source": [
    "from fotoweb.models import *"
   ]
  },
  {
   "cell_type": "code",
   "execution_count": 4,
   "metadata": {},
   "outputs": [],
   "source": [
    "from selenium import webdriver\n",
    "from selenium.webdriver.common.by import By\n",
    "from selenium.webdriver.support import expected_conditions\n",
    "from selenium.webdriver.support.wait import WebDriverWait\n",
    "from selenium.webdriver.common.keys import Keys\n",
    "from selenium.webdriver.chrome.options import Options"
   ]
  },
  {
   "cell_type": "code",
   "execution_count": 11,
   "metadata": {},
   "outputs": [],
   "source": [
    "from selenium import webdriver\n",
    "from selenium.webdriver.common.by import By\n",
    "from selenium.webdriver.support import expected_conditions\n",
    "from selenium.webdriver.support.wait import WebDriverWait\n",
    "from selenium.webdriver.common.keys import Keys\n",
    "from selenium.webdriver.chrome.options import Options\n",
    "from selenium.webdriver.chrome.service import Service\n",
    "\n",
    "class SelDriver():\n",
    "  def __init__(self,dbg=False):\n",
    "    chrome_options = Options()\n",
    "    #chrome_options.add_argument(\"--headless\")\n",
    "    if dbg:\n",
    "        chrome_options.add_experimental_option(\"debuggerAddress\", \"127.0.0.1:9222\")\n",
    "    #Change chrome driver path accordingly\n",
    "    #chrome_driver = \"chromedriver.exe\n",
    "    #chrome_driver = r\"c:\\programs\\chrome-win64\"\n",
    "    service = Service()\n",
    "    self.driver = webdriver.Chrome(service=service, options=chrome_options)\n",
    "    print (self.driver)\n",
    "    self.driver.implicitly_wait(5)\n",
    "    self.vars = {}"
   ]
  },
  {
   "cell_type": "code",
   "execution_count": 12,
   "metadata": {},
   "outputs": [
    {
     "name": "stdout",
     "output_type": "stream",
     "text": [
      "<selenium.webdriver.chrome.webdriver.WebDriver (session=\"50927f699140ba075379b4440c52cc6e\")>\n"
     ]
    }
   ],
   "source": [
    "driver=SelDriver(True)"
   ]
  },
  {
   "cell_type": "code",
   "execution_count": null,
   "metadata": {},
   "outputs": [],
   "source": [
    "\n",
    "#ee=driver.driver.find_elements(By.CSS_SELECTOR, '.cm-media-thumb img')\n",
    "ee=driver.driver.find_elements(By.CSS_SELECTOR, '.cm-media-thumb img')\n",
    "ee"
   ]
  },
  {
   "cell_type": "code",
   "execution_count": null,
   "metadata": {},
   "outputs": [],
   "source": [
    "srcs=[]\n",
    "for e in ee:\n",
    "    src=e.get_attribute('src')\n",
    "    r=re.search(r'(\\d+)\\.jpg',src)\n",
    "    print(src,r.group(1))\n",
    "    srcs.append(r.group(1))\n",
    "\n"
   ]
  },
  {
   "cell_type": "code",
   "execution_count": null,
   "metadata": {},
   "outputs": [],
   "source": [
    "images=[]\n",
    "for src in srcs:\n",
    "    driver.driver.get('https://submit.shutterstock.com/catalog_manager/images/'+src)\n",
    "    name = driver.driver.find_element(By.CSS_SELECTOR,'.o_List_List_itemText div').text\n",
    "    description = driver.driver.find_element(By.CSS_SELECTOR,'.o_EditorDescription_EditorDescription_descriptionInput').text\n",
    "    images.append({\n",
    "        'name':name,\n",
    "        'description':description,\n",
    "        'shutter-id':src\n",
    "    })\n",
    "    i=None\n",
    "    try:\n",
    "        i=Image.objects.get(name=name)\n",
    "        print(name,'found exact match')\n",
    "    except:\n",
    "        name = driver.driver.find_element(By.CSS_SELECTOR,'.o_List_List_itemText div').text.replace('.jpg','')\n",
    "        try:\n",
    "            i=Image.objects.filter(name__contains=name).first()\n",
    "            print(name,'found by contains')\n",
    "        except:\n",
    "            print(name,'NOT found')\n",
    "\n",
    "    if i and i.shutter:\n",
    "        print('already shutter')\n",
    "    elif i:\n",
    "        i.shutter_dt=i.updated_dt\n",
    "        if not i.title:\n",
    "            i.title=driver.driver.find_element(By.CSS_SELECTOR,'.o_EditorDescription_EditorDescription_descriptionInput').text\n",
    "        i.shutter=True\n",
    "        i.shutter_url='https://submit.shutterstock.com/catalog_manager/images/'+src\n",
    "        i.save()\n",
    "        print('shutter updated')\n"
   ]
  },
  {
   "cell_type": "code",
   "execution_count": null,
   "metadata": {},
   "outputs": [],
   "source": [
    "images"
   ]
  },
  {
   "cell_type": "code",
   "execution_count": 26,
   "metadata": {},
   "outputs": [],
   "source": [
    "driver.driver.get(\"https://submit.shutterstock.com/en/data_catalog\")"
   ]
  },
  {
   "cell_type": "code",
   "execution_count": null,
   "metadata": {},
   "outputs": [],
   "source": [
    "cards = driver.driver.find_elements(By.CSS_SELECTOR, \".MuiGrid-root > .MuiBox-root > .MuiPaper-root\")\n",
    "cards"
   ]
  },
  {
   "cell_type": "code",
   "execution_count": 43,
   "metadata": {},
   "outputs": [
    {
     "name": "stdout",
     "output_type": "stream",
     "text": [
      "23-08-31-DSC03818-1.jpg\n",
      "23-08-31-DSC03818-1.jpg found exact match\n"
     ]
    },
    {
     "name": "stdout",
     "output_type": "stream",
     "text": [
      "shutter updated\n",
      "23-08-31-DSC03855-1.jpg\n",
      "23-08-31-DSC03855-1.jpg found exact match\n",
      "shutter updated\n",
      "23-09-22-DSC04051-1.jpg\n",
      "23-09-22-DSC04051-1.jpg found exact match\n",
      "shutter updated\n",
      "23-08-31-DSC03807-1.jpg\n",
      "23-08-31-DSC03807-1.jpg found exact match\n",
      "shutter updated\n",
      "23-08-31-DSC03814-1.jpg\n",
      "23-08-31-DSC03814-1.jpg found exact match\n",
      "shutter updated\n",
      "23-08-31-DSC03778-1.jpg\n",
      "23-08-31-DSC03778-1.jpg found exact match\n",
      "shutter updated\n",
      "23-08-31-DSC03788-1.jpg\n",
      "23-08-31-DSC03788-1.jpg found exact match\n",
      "shutter updated\n",
      "23-08-31-DSC03797-1.jpg\n",
      "23-08-31-DSC03797-1.jpg found exact match\n",
      "shutter updated\n",
      "23-08-31-DSC03779-1.jpg\n",
      "23-08-31-DSC03779-1.jpg found exact match\n",
      "shutter updated\n",
      "23-08-31-DSC03773-1.jpg\n",
      "23-08-31-DSC03773-1.jpg found exact match\n",
      "shutter updated\n",
      "23-03-03-DJI_0036-1.jpg\n",
      "23-03-03-DJI_0036-1.jpg found exact match\n",
      "shutter updated\n",
      "23-03-13-DSC09971-1.jpg\n",
      "23-03-13-DSC09971-1.jpg found exact match\n",
      "shutter updated\n",
      "23-03-13-DSC09976-1.jpg\n",
      "23-03-13-DSC09976-1.jpg found exact match\n",
      "shutter updated\n",
      "23-03-13-DSC09973-1.jpg\n",
      "23-03-13-DSC09973-1.jpg found exact match\n",
      "shutter updated\n",
      "23-03-06-DSC09473-1.jpg\n",
      "23-03-06-DSC09473-1.jpg found exact match\n",
      "shutter updated\n",
      "23-05-21-DSC02479-1.jpg\n",
      "23-05-21-DSC02479-1.jpg found exact match\n",
      "shutter updated\n",
      "23-05-21-DSC02486-1.jpg\n",
      "23-05-21-DSC02486-1.jpg found exact match\n",
      "shutter updated\n",
      "23-02-19-DSC09342-1.jpg\n",
      "23-02-19-DSC09342-1.jpg found exact match\n",
      "shutter updated\n",
      "23-03-09-DSC09628-1.jpg\n",
      "23-03-09-DSC09628-1.jpg found exact match\n",
      "shutter updated\n",
      "23-03-13-DSC09954-1.jpg\n",
      "23-03-13-DSC09954-1.jpg found exact match\n",
      "shutter updated\n",
      "23-03-13-DSC09974-1.jpg\n",
      "23-03-13-DSC09974-1.jpg found exact match\n",
      "shutter updated\n",
      "23-03-13-DSC09978-1.jpg\n",
      "23-03-13-DSC09978-1.jpg found exact match\n",
      "shutter updated\n",
      "23-03-09-DSC09651-1.jpg\n",
      "23-03-09-DSC09651-1.jpg found exact match\n",
      "shutter updated\n",
      "22-09-02-DSC07225-1.jpg\n",
      "22-09-02-DSC07225-1.jpg found exact match\n",
      "shutter updated\n",
      "22-09-02-DSC07228-1.jpg\n",
      "22-09-02-DSC07228-1.jpg found exact match\n",
      "shutter updated\n"
     ]
    }
   ],
   "source": [
    "for c in cards:\n",
    "    #print(c.text)\n",
    "    idiv = c.find_element(By.CSS_SELECTOR,\".MuiBox-root:nth-child(1) > .MuiTypography-root\")\n",
    "    name = idiv.text\n",
    "    print(name)\n",
    "\n",
    "    i=None\n",
    "    try:\n",
    "        i=Image.objects.get(name=name)\n",
    "        print(name,'found exact match')\n",
    "    except:\n",
    "        print(name,'NOT found')\n",
    "\n",
    "    if i and i.shutter:\n",
    "        print('already shutter')\n",
    "    elif i:\n",
    "        i.shutter_dt=i.updated_dt\n",
    "        i.shutter=True\n",
    "        i.shutter_url='Data licensing'\n",
    "        i.save()\n",
    "        print('shutter updated')\n",
    "\n",
    "                       "
   ]
  }
 ],
 "metadata": {
  "kernelspec": {
   "display_name": "Django Shell-Plus",
   "language": "python",
   "name": "django_extensions"
  },
  "language_info": {
   "codemirror_mode": {
    "name": "ipython",
    "version": 3
   },
   "file_extension": ".py",
   "mimetype": "text/x-python",
   "name": "python",
   "nbconvert_exporter": "python",
   "pygments_lexer": "ipython3",
   "version": "3.8.5"
  },
  "orig_nbformat": 4,
  "vscode": {
   "interpreter": {
    "hash": "10da27bddd3377f40093df844bafe61c564a0568439e5eb1f993e4e158715d8c"
   }
  }
 },
 "nbformat": 4,
 "nbformat_minor": 2
}
