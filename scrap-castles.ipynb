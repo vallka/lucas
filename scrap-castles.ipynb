{
 "cells": [
  {
   "cell_type": "code",
   "execution_count": 1,
   "metadata": {},
   "outputs": [],
   "source": [
    "import re\n",
    "import requests\n",
    "from bs4 import BeautifulSoup\n",
    "from OSGridConverter import grid2latlong\n"
   ]
  },
  {
   "cell_type": "code",
   "execution_count": 2,
   "metadata": {},
   "outputs": [],
   "source": [
    "import os\n",
    "os.environ[\"DJANGO_ALLOW_ASYNC_UNSAFE\"] = \"true\"\n",
    "import django\n",
    "django.setup()"
   ]
  },
  {
   "cell_type": "code",
   "execution_count": 3,
   "metadata": {},
   "outputs": [],
   "source": [
    "from castles.models import Castle"
   ]
  },
  {
   "cell_type": "code",
   "execution_count": 21,
   "metadata": {},
   "outputs": [],
   "source": [
    "from django.db import connection\n",
    "connection.connect()"
   ]
  },
  {
   "cell_type": "code",
   "execution_count": 8,
   "metadata": {},
   "outputs": [],
   "source": [
    "cas = Castle.objects.all()\n",
    "cas[0].canmore_map"
   ]
  },
  {
   "cell_type": "code",
   "execution_count": null,
   "metadata": {},
   "outputs": [],
   "source": [
    "url='https://thecastleguy.co.uk/castle/?cpage='\n",
    "page=1"
   ]
  },
  {
   "cell_type": "code",
   "execution_count": null,
   "metadata": {},
   "outputs": [],
   "source": [
    "html = requests.get(f\"{url}{page}\")"
   ]
  },
  {
   "cell_type": "code",
   "execution_count": null,
   "metadata": {},
   "outputs": [],
   "source": [
    "soup = BeautifulSoup(html.text, 'html.parser')"
   ]
  },
  {
   "cell_type": "code",
   "execution_count": null,
   "metadata": {},
   "outputs": [],
   "source": [
    "cas=soup.find_all('div', class_='castle')\n",
    "cas"
   ]
  },
  {
   "cell_type": "code",
   "execution_count": null,
   "metadata": {},
   "outputs": [],
   "source": [
    "\n",
    "n=1\n",
    "for page in range(1,37):\n",
    "    html = requests.get(f\"{url}{page}\")\n",
    "    soup = BeautifulSoup(html.text, 'html.parser')\n",
    "    cas=soup.find_all('div', class_='castle')\n",
    "    for c in cas:\n",
    "        name = c.find('p',class_='castle-name').text.strip()\n",
    "        source_url = c.find('p',class_='castle-name').find('a').get('href')\n",
    "        print (n,'*Name:',name,'*Source_url:',source_url)\n",
    "        castle = Castle(source='thecastleguy.co.uk',source_url=source_url,name=name)\n",
    "        for info in c.findAll('li'):\n",
    "            #print (info.text.strip())\n",
    "\n",
    "            inforeg = re.search(r'(.*)\\s*:\\s*(.*)',info.text.strip())\n",
    "            if inforeg:\n",
    "                #print (inforeg.group(1),inforeg.group(2))\n",
    "                if inforeg.group(1)=='Grid Reference':\n",
    "                    castle.grid_reference = inforeg.group(2)\n",
    "                    l=grid2latlong(castle.grid_reference)\n",
    "                    castle.lat = l.latitude\n",
    "                    castle.lng = l.longitude\n",
    "                    print ('grid_reference',inforeg.group(2),'lat:',castle.lat,'lng:',castle.lng)\n",
    "                elif inforeg.group(1)=='Closest To':\n",
    "                    print ('closest_to',inforeg.group(2))\n",
    "                    castle.closest_to = inforeg.group(2)\n",
    "            else:\n",
    "                print ('access',info.text.strip())\n",
    "                castle.access = info.text.strip()\n",
    "\n",
    "\n",
    "        print(c.find('p',class_='castle-index').text.strip())\n",
    "        castle.description_short = c.find('p',class_='castle-index').text.strip()\n",
    "        print (c.find('img').get('src'))\n",
    "        castle.image_url = c.find('img').get('src')\n",
    "\n",
    "        castle.save()\n",
    "\n",
    "        n+=1"
   ]
  },
  {
   "cell_type": "code",
   "execution_count": null,
   "metadata": {},
   "outputs": [],
   "source": [
    "from OSGridConverter import grid2latlong"
   ]
  },
  {
   "cell_type": "code",
   "execution_count": null,
   "metadata": {},
   "outputs": [],
   "source": [
    "l=grid2latlong('NO301410')\n",
    "(l.latitude,l.longitude)"
   ]
  },
  {
   "cell_type": "code",
   "execution_count": null,
   "metadata": {},
   "outputs": [],
   "source": [
    "cc = Castle.objects.all()\n",
    "for c in cc:\n",
    "    l=grid2latlong(c.grid_reference)\n",
    "    print (c.name,c.grid_reference,l.latitude,l.longitude)\n",
    "    c.lat = l.latitude\n",
    "    c.lng = l.longitude\n",
    "    c.save()\n"
   ]
  },
  {
   "cell_type": "code",
   "execution_count": 22,
   "metadata": {},
   "outputs": [
    {
     "name": "stdout",
     "output_type": "stream",
     "text": [
      "Auchen Castle https://thecastleguy.co.uk/castle/auchen-castle/\n",
      "Berwick Castle https://thecastleguy.co.uk/castle/berwick-castle/\n",
      "Blairfindy Castle https://thecastleguy.co.uk/castle/blairfindy-castle/\n",
      "Lochwood Castle https://thecastleguy.co.uk/castle/lochwood-castle/\n",
      "Raitcastle https://thecastleguy.co.uk/castle/raitcastle/\n"
     ]
    }
   ],
   "source": [
    "cc = Castle.objects.filter(canmore_url__isnull=True)\n",
    "for c in cc:\n",
    "    print (c.name,c.source_url)\n",
    "    html = requests.get(c.source_url)\n",
    "    soup = BeautifulSoup(html.text, 'html.parser')\n",
    "    #soup.find_all('a', title=\"HES Canmore database entry\")\n",
    "    cas=soup.select_one(\"a[href*='canmore.org.uk/site/']\")\n",
    "    if cas : \n",
    "        print (cas['href'])\n",
    "        if cas['href'].startswith('http'):\n",
    "            c.canmore_url = cas['href']\n",
    "        else:\n",
    "            c.canmore_url = 'https://'+cas['href']\n",
    "        html = requests.get(c.canmore_url)\n",
    "        soup = BeautifulSoup(html.text, 'html.parser')\n",
    "        grid = soup.find(text=\"NGR\")\n",
    "        ref=grid.parent.parent.text.replace('NGR','').strip()\n",
    "        c.grid_reference = ref\n",
    "        #datum = soup.find(text=\"Datum\")\n",
    "        #datum=datum.parent.parent.text.replace('Datum','').replace('NGR','').replace('-','').strip()\n",
    "        #l=grid2latlong(ref,tag=datum) \n",
    "        l=grid2latlong(ref) \n",
    "        c.lat = l.latitude\n",
    "        c.lng = l.longitude\n",
    "        map=soup.select_one(\"a[href*='view=map']\")\n",
    "        print(ref,c.grid_reference,l,map)\n",
    "        c.canmore_map = 'https://canmore.org.uk' + map['href']\n",
    "        \n",
    "\n",
    "        c.save()\n",
    "\n",
    "    #c.save()\n",
    "\n"
   ]
  },
  {
   "cell_type": "code",
   "execution_count": 11,
   "metadata": {},
   "outputs": [
    {
     "data": {
      "text/plain": [
       "'/site/search/result?NUMLINK=65463&view=map'"
      ]
     },
     "execution_count": 11,
     "metadata": {},
     "output_type": "execute_result"
    }
   ],
   "source": [
    "cc[0].canmore_map"
   ]
  }
 ],
 "metadata": {
  "interpreter": {
   "hash": "10da27bddd3377f40093df844bafe61c564a0568439e5eb1f993e4e158715d8c"
  },
  "kernelspec": {
   "display_name": "Python 3.8.5 ('.venv': pipenv)",
   "language": "python",
   "name": "python3"
  },
  "language_info": {
   "codemirror_mode": {
    "name": "ipython",
    "version": 3
   },
   "file_extension": ".py",
   "mimetype": "text/x-python",
   "name": "python",
   "nbconvert_exporter": "python",
   "pygments_lexer": "ipython3",
   "version": "3.8.5"
  },
  "orig_nbformat": 4
 },
 "nbformat": 4,
 "nbformat_minor": 2
}
