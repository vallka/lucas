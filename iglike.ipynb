{
 "cells": [
  {
   "cell_type": "code",
   "execution_count": null,
   "metadata": {},
   "outputs": [],
   "source": [
    "import csv\n",
    "import time\n",
    "import random\n",
    "from selenium import webdriver\n",
    "from selenium.webdriver.common.by import By\n",
    "from selenium.webdriver.support import expected_conditions\n",
    "from selenium.webdriver.support.wait import WebDriverWait\n",
    "from selenium.webdriver.common.keys import Keys\n",
    "from selenium.webdriver.chrome.options import Options\n",
    "\n",
    "class SelDriver():\n",
    "  def __init__(self,dbg=False):\n",
    "    chrome_options = Options()\n",
    "    #chrome_options.add_argument(\"--headless\")\n",
    "    if dbg:\n",
    "        chrome_options.add_experimental_option(\"debuggerAddress\", \"127.0.0.1:9222\")\n",
    "    #Change chrome driver path accordingly\n",
    "    chrome_driver = \"chromedriver.exe\"\n",
    "    self.driver = webdriver.Chrome(chrome_driver, options=chrome_options)\n",
    "    print (self.driver)\n",
    "    self.driver.implicitly_wait(1)\n",
    "    self.vars = {}"
   ]
  },
  {
   "cell_type": "code",
   "execution_count": null,
   "metadata": {},
   "outputs": [],
   "source": [
    "driver=SelDriver(True)"
   ]
  },
  {
   "cell_type": "code",
   "execution_count": null,
   "metadata": {},
   "outputs": [],
   "source": [
    "driver.driver.find_elements(By.XPATH,\"//*[contains(text(), 'likes')]\")[0].text"
   ]
  },
  {
   "cell_type": "code",
   "execution_count": null,
   "metadata": {},
   "outputs": [],
   "source": [
    "driver.driver.find_elements(By.XPATH,\"//*[contains(text(), 'likes')]\")[0].text"
   ]
  },
  {
   "cell_type": "code",
   "execution_count": null,
   "metadata": {},
   "outputs": [],
   "source": [
    "driver.driver.find_elements(By.XPATH,\"//*[contains(text(), '1 like')]\")\n"
   ]
  },
  {
   "cell_type": "code",
   "execution_count": null,
   "metadata": {},
   "outputs": [],
   "source": [
    "driver.driver.find_elements(By.XPATH,\"//*[contains(text(), 'likes')]\")[0].text"
   ]
  },
  {
   "cell_type": "code",
   "execution_count": null,
   "metadata": {},
   "outputs": [],
   "source": [
    "driver.driver.find_elements(By.CSS_SELECTOR,'._abl-')[3].click()\n",
    "driver.driver.find_elements(By.CSS_SELECTOR,'._abl-')[1].click()\n",
    "time.sleep(1)\n",
    "driver.driver.find_elements(By.XPATH,\"//*[contains(text(), 'likes')]\")[0].text"
   ]
  },
  {
   "cell_type": "code",
   "execution_count": 5,
   "metadata": {},
   "outputs": [
    {
     "name": "stdout",
     "output_type": "stream",
     "text": [
      "0 1 waiting: 6\n",
      "1 2 waiting: 14\n",
      "2 3 waiting: 2\n",
      "3 4 waiting: 10\n",
      "4 5 waiting: 19\n",
      "5 6 waiting: 6\n",
      "6 7 waiting: 11\n",
      "7 8 waiting: 20\n",
      "8 9 waiting: 5\n",
      "9 10 waiting: 16\n",
      "10 11 waiting: 12\n",
      "11 12 waiting: 16\n",
      "12 13 waiting: 10\n",
      "13 14 waiting: 5\n",
      "14 15 waiting: 14\n",
      "15 16 waiting: 9\n",
      "16 16 waiting: 16\n",
      "17 17 waiting: 11\n",
      "18 18 waiting: 5\n",
      "19 19 waiting: 5\n",
      "20 20 waiting: 10\n"
     ]
    }
   ],
   "source": [
    "to_like=20\n",
    "liked=0\n",
    "for i in range(2001):\n",
    "    \n",
    "    ilikes = 100\n",
    "    try:\n",
    "        likes = driver.driver.find_elements(By.XPATH,\"//*[contains(text(), 'likes')]\")[0].text\n",
    "        if likes:\n",
    "            ilikes = int(likes.split()[0])\n",
    "        elif driver.driver.find_elements(By.XPATH,\"//*[contains(text(), '1 like')]\") and driver.driver.find_elements(By.XPATH,\"//*[contains(text(), '1 like')]\")[0].text:\n",
    "            ilikes = 1\n",
    "        elif driver.driver.find_elements(By.XPATH,\"//*[contains(text(), 'Be the first')]\") and driver.driver.find_elements(By.XPATH,\"//*[contains(text(), 'Be the first')]\")[0].text:\n",
    "            ilikes = 1\n",
    "\n",
    "        if ilikes<30:\n",
    "            liked = liked+1\n",
    "            driver.driver.find_elements(By.CSS_SELECTOR,'._abl-')[3].click()\n",
    "\n",
    "        sleep = random.randint(2,20)\n",
    "        print(i,liked,'waiting:',sleep)\n",
    "        time.sleep(sleep)\n",
    "    except:\n",
    "        None    \n",
    "\n",
    "    if liked>=to_like:\n",
    "        break    \n",
    "\n",
    "    driver.driver.find_elements(By.CSS_SELECTOR,'._abl-')[1].click()\n",
    "    time.sleep(1)\n"
   ]
  },
  {
   "cell_type": "code",
   "execution_count": null,
   "metadata": {},
   "outputs": [],
   "source": [
    "driver.driver.find_elements(By.XPATH,\"//*[contains(text(), 'Be the first')]\")[0].text\n"
   ]
  },
  {
   "cell_type": "code",
   "execution_count": null,
   "metadata": {},
   "outputs": [],
   "source": [
    "driver.driver.find_element(By.CSS_SELECTOR,'#nbsPackagePackageLengthField0').send_keys('20')\n",
    "#time.sleep(1)\n",
    "driver.driver.find_element(By.CSS_SELECTOR,'#nbsPackagePackageWidthField0').send_keys('20')\n",
    "#time.sleep(1)\n",
    "driver.driver.find_element(By.CSS_SELECTOR,'#nbsPackagePackageHeightField0').send_keys('20')\n",
    "#time.sleep(1)\n",
    "driver.driver.find_element(By.CSS_SELECTOR,'#nbsPackageDeclaredValueField0').send_keys('50')\n",
    "#time.sleep(1)\n",
    "driver.driver.find_element(By.CSS_SELECTOR,'#nbsReferenceNumberReference1').send_keys(ref)\n",
    "#time.sleep(1)\n",
    "driver.driver.find_element(By.CSS_SELECTOR,'#nbsShipmentDescription').send_keys('Manicure accessories')\n"
   ]
  },
  {
   "cell_type": "code",
   "execution_count": null,
   "metadata": {},
   "outputs": [],
   "source": [
    "driver.driver.find_element(By.CSS_SELECTOR,'#nbsConfirmationShipmentOverviewTrackingNumber').text"
   ]
  }
 ],
 "metadata": {
  "kernelspec": {
   "display_name": "Django Shell-Plus",
   "language": "python",
   "name": "django_extensions"
  },
  "language_info": {
   "codemirror_mode": {
    "name": "ipython",
    "version": 3
   },
   "file_extension": ".py",
   "mimetype": "text/x-python",
   "name": "python",
   "nbconvert_exporter": "python",
   "pygments_lexer": "ipython3",
   "version": "3.8.5 (default, Sep  3 2020, 21:29:08) [MSC v.1916 64 bit (AMD64)]"
  },
  "orig_nbformat": 4,
  "vscode": {
   "interpreter": {
    "hash": "10da27bddd3377f40093df844bafe61c564a0568439e5eb1f993e4e158715d8c"
   }
  }
 },
 "nbformat": 4,
 "nbformat_minor": 2
}
