{
 "cells": [
  {
   "cell_type": "code",
   "execution_count": null,
   "metadata": {},
   "outputs": [],
   "source": [
    "import os\n",
    "os.environ[\"DJANGO_ALLOW_ASYNC_UNSAFE\"] = \"true\"\n",
    "import django\n",
    "django.setup()"
   ]
  },
  {
   "cell_type": "code",
   "execution_count": null,
   "metadata": {},
   "outputs": [],
   "source": [
    "from django.db import connection\n",
    "connection.connect()"
   ]
  },
  {
   "cell_type": "code",
   "execution_count": 1,
   "metadata": {},
   "outputs": [],
   "source": [
    "import csv"
   ]
  },
  {
   "cell_type": "code",
   "execution_count": 2,
   "metadata": {},
   "outputs": [],
   "source": [
    "with open(r'd:\\Downloads\\dhl-20230106.csv',newline='') as csvfile:\n",
    "    rdr = csv.DictReader(csvfile)\n",
    "    pp = list(rdr)\n"
   ]
  },
  {
   "cell_type": "code",
   "execution_count": 3,
   "metadata": {},
   "outputs": [
    {
     "data": {
      "text/plain": [
       "[{'Item Name': 'Manicure Accessories',\n",
       "  'Value': '50',\n",
       "  'Weight': '0.640000',\n",
       "  'Length': '20',\n",
       "  'Width': '15',\n",
       "  'Height': '10',\n",
       "  'Name': 'Bo Kawczynska',\n",
       "  'Company': 'Bo Kawczynska',\n",
       "  'Property': 'Third',\n",
       "  'Street': 'Floor Flat, 1 Johnston Street ',\n",
       "  'Town': 'Paisley',\n",
       "  'County': '',\n",
       "  'PostCode': 'PA1 1XQ ',\n",
       "  'Country': 'GB',\n",
       "  'Telephone': '07568561247',\n",
       "  'Email': 'bogusia.kawczynska@gmail.com',\n",
       "  'Reference': 'STARHEDJK',\n",
       "  None: ['']},\n",
       " {'Item Name': 'Manicure Accessories',\n",
       "  'Value': '50',\n",
       "  'Weight': '0.640000',\n",
       "  'Length': '20',\n",
       "  'Width': '15',\n",
       "  'Height': '10',\n",
       "  'Name': 'Katie Murray',\n",
       "  'Company': 'Katie Murray',\n",
       "  'Property': '21',\n",
       "  'Street': 'Cwrt Pant Yr Awel  ',\n",
       "  'Town': 'Bridgend',\n",
       "  'County': '',\n",
       "  'PostCode': 'CF32 7HW',\n",
       "  'Country': 'GB',\n",
       "  'Telephone': '07970308640',\n",
       "  'Email': 'chrisbell1987@googlemail.com',\n",
       "  'Reference': 'EBNMMULPV',\n",
       "  None: ['']},\n",
       " {'Item Name': 'Manicure Accessories',\n",
       "  'Value': '50',\n",
       "  'Weight': '0.880000',\n",
       "  'Length': '20',\n",
       "  'Width': '15',\n",
       "  'Height': '10',\n",
       "  'Name': 'Marusic Olga',\n",
       "  'Company': 'Marusic Olga',\n",
       "  'Property': '1119',\n",
       "  'Street': 'Cathcart Roud ',\n",
       "  'Town': 'Glasgow',\n",
       "  'County': '',\n",
       "  'PostCode': 'G42 9BD',\n",
       "  'Country': 'GB',\n",
       "  'Telephone': '07754119331',\n",
       "  'Email': 'limonyou1111@gmail.com',\n",
       "  'Reference': 'FGZVBRJFM',\n",
       "  None: ['']}]"
      ]
     },
     "execution_count": 3,
     "metadata": {},
     "output_type": "execute_result"
    }
   ],
   "source": [
    "pp"
   ]
  },
  {
   "cell_type": "code",
   "execution_count": 4,
   "metadata": {},
   "outputs": [],
   "source": [
    "import csv\n",
    "import time\n",
    "from selenium import webdriver\n",
    "from selenium.webdriver.common.by import By\n",
    "from selenium.webdriver.support import expected_conditions\n",
    "from selenium.webdriver.support.wait import WebDriverWait\n",
    "from selenium.webdriver.common.keys import Keys\n",
    "from selenium.webdriver.chrome.options import Options\n",
    "\n",
    "class SelDriver():\n",
    "  def __init__(self,dbg=False):\n",
    "    chrome_options = Options()\n",
    "    #chrome_options.add_argument(\"--headless\")\n",
    "    if dbg:\n",
    "        chrome_options.add_experimental_option(\"debuggerAddress\", \"127.0.0.1:9222\")\n",
    "    #Change chrome driver path accordingly\n",
    "    chrome_driver = \"chromedriver.exe\"\n",
    "    self.driver = webdriver.Chrome(chrome_driver, options=chrome_options)\n",
    "    print (self.driver)\n",
    "    self.driver.implicitly_wait(5)\n",
    "    self.vars = {}"
   ]
  },
  {
   "cell_type": "code",
   "execution_count": 5,
   "metadata": {},
   "outputs": [
    {
     "name": "stderr",
     "output_type": "stream",
     "text": [
      "C:\\Users\\user\\AppData\\Local\\Temp\\ipykernel_20860\\2807794969.py:18: DeprecationWarning: executable_path has been deprecated, please pass in a Service object\n",
      "  self.driver = webdriver.Chrome(chrome_driver, options=chrome_options)\n"
     ]
    },
    {
     "name": "stdout",
     "output_type": "stream",
     "text": [
      "<selenium.webdriver.chrome.webdriver.WebDriver (session=\"215ea9413d3a4f8c8e963d4d055bff68\")>\n"
     ]
    }
   ],
   "source": [
    "driver=SelDriver(True)"
   ]
  },
  {
   "cell_type": "code",
   "execution_count": 91,
   "metadata": {},
   "outputs": [
    {
     "data": {
      "text/plain": [
       "'07398189769'"
      ]
     },
     "execution_count": 91,
     "metadata": {},
     "output_type": "execute_result"
    }
   ],
   "source": [
    "phone"
   ]
  },
  {
   "cell_type": "code",
   "execution_count": 14,
   "metadata": {},
   "outputs": [
    {
     "data": {
      "text/plain": [
       "{'Item Name': 'Manicure Accessories',\n",
       " 'Value': '50',\n",
       " 'Weight': '0.880000',\n",
       " 'Length': '20',\n",
       " 'Width': '15',\n",
       " 'Height': '10',\n",
       " 'Name': 'Marusic Olga',\n",
       " 'Company': 'Marusic Olga',\n",
       " 'Property': '1119',\n",
       " 'Street': 'Cathcart Roud ',\n",
       " 'Town': 'Glasgow',\n",
       " 'County': '',\n",
       " 'PostCode': 'G42 9BD',\n",
       " 'Country': 'GB',\n",
       " 'Telephone': '07754119331',\n",
       " 'Email': 'limonyou1111@gmail.com',\n",
       " 'Reference': 'FGZVBRJFM',\n",
       " None: ['']}"
      ]
     },
     "execution_count": 14,
     "metadata": {},
     "output_type": "execute_result"
    }
   ],
   "source": [
    "p=pp[2]\n",
    "ref=p['Reference']\n",
    "email=p['Email']\n",
    "name=p['Name']\n",
    "company=p['Company']\n",
    "phone=p['Telephone']\n",
    "address=f\"{p['Property']} {p['Street']} {p['Town']} {p['PostCode']}\"\n",
    "w=p['Weight']\n",
    "w=round(float(w)+0.05,1)\n",
    "p"
   ]
  },
  {
   "cell_type": "code",
   "execution_count": 16,
   "metadata": {},
   "outputs": [
    {
     "ename": "NoSuchElementException",
     "evalue": "Message: no such element: Unable to locate element: {\"method\":\"css selector\",\"selector\":\"#destination-cac_singleLineAddress\"}\n  (Session info: chrome=108.0.5359.125)\nStacktrace:\nBacktrace:\n\t(No symbol) [0x010CF243]\n\t(No symbol) [0x01057FD1]\n\t(No symbol) [0x00F4D04D]\n\t(No symbol) [0x00F7C0B0]\n\t(No symbol) [0x00F7C22B]\n\t(No symbol) [0x00FAE612]\n\t(No symbol) [0x00F985D4]\n\t(No symbol) [0x00FAC9EB]\n\t(No symbol) [0x00F98386]\n\t(No symbol) [0x00F7163C]\n\t(No symbol) [0x00F7269D]\n\tGetHandleVerifier [0x01369A22+2655074]\n\tGetHandleVerifier [0x0135CA24+2601828]\n\tGetHandleVerifier [0x01178C0A+619850]\n\tGetHandleVerifier [0x01177830+614768]\n\t(No symbol) [0x010605FC]\n\t(No symbol) [0x01065968]\n\t(No symbol) [0x01065A55]\n\t(No symbol) [0x0107051B]\n\tBaseThreadInitThunk [0x771EFA29+25]\n\tRtlGetAppContainerNamedObjectPath [0x77337A9E+286]\n\tRtlGetAppContainerNamedObjectPath [0x77337A6E+238]\n",
     "output_type": "error",
     "traceback": [
      "\u001b[1;31m---------------------------------------------------------------------------\u001b[0m",
      "\u001b[1;31mNoSuchElementException\u001b[0m                    Traceback (most recent call last)",
      "Cell \u001b[1;32mIn [16], line 5\u001b[0m\n\u001b[0;32m      3\u001b[0m driver\u001b[39m.\u001b[39mdriver\u001b[39m.\u001b[39mfind_element(By\u001b[39m.\u001b[39mCSS_SELECTOR,\u001b[39m'\u001b[39m\u001b[39m#destination-cac_email\u001b[39m\u001b[39m'\u001b[39m)\u001b[39m.\u001b[39msend_keys(email)\n\u001b[0;32m      4\u001b[0m driver\u001b[39m.\u001b[39mdriver\u001b[39m.\u001b[39mfind_element(By\u001b[39m.\u001b[39mCSS_SELECTOR,\u001b[39m'\u001b[39m\u001b[39m#destination-cac_phone\u001b[39m\u001b[39m'\u001b[39m)\u001b[39m.\u001b[39msend_keys(phone)\n\u001b[1;32m----> 5\u001b[0m driver\u001b[39m.\u001b[39;49mdriver\u001b[39m.\u001b[39;49mfind_element(By\u001b[39m.\u001b[39;49mCSS_SELECTOR,\u001b[39m'\u001b[39;49m\u001b[39m#destination-cac_singleLineAddress\u001b[39;49m\u001b[39m'\u001b[39;49m)\u001b[39m.\u001b[39msend_keys(address)\n\u001b[0;32m      6\u001b[0m time\u001b[39m.\u001b[39msleep(\u001b[39m1\u001b[39m)\n",
      "File \u001b[1;32md:\\a\\simply-blog\\.venv\\lib\\site-packages\\selenium\\webdriver\\remote\\webdriver.py:861\u001b[0m, in \u001b[0;36mWebDriver.find_element\u001b[1;34m(self, by, value)\u001b[0m\n\u001b[0;32m    858\u001b[0m     by \u001b[39m=\u001b[39m By\u001b[39m.\u001b[39mCSS_SELECTOR\n\u001b[0;32m    859\u001b[0m     value \u001b[39m=\u001b[39m \u001b[39m'\u001b[39m\u001b[39m[name=\u001b[39m\u001b[39m\"\u001b[39m\u001b[39m%s\u001b[39;00m\u001b[39m\"\u001b[39m\u001b[39m]\u001b[39m\u001b[39m'\u001b[39m \u001b[39m%\u001b[39m value\n\u001b[1;32m--> 861\u001b[0m \u001b[39mreturn\u001b[39;00m \u001b[39mself\u001b[39;49m\u001b[39m.\u001b[39;49mexecute(Command\u001b[39m.\u001b[39;49mFIND_ELEMENT, {\u001b[39m\"\u001b[39;49m\u001b[39musing\u001b[39;49m\u001b[39m\"\u001b[39;49m: by, \u001b[39m\"\u001b[39;49m\u001b[39mvalue\u001b[39;49m\u001b[39m\"\u001b[39;49m: value})[\u001b[39m\"\u001b[39m\u001b[39mvalue\u001b[39m\u001b[39m\"\u001b[39m]\n",
      "File \u001b[1;32md:\\a\\simply-blog\\.venv\\lib\\site-packages\\selenium\\webdriver\\remote\\webdriver.py:444\u001b[0m, in \u001b[0;36mWebDriver.execute\u001b[1;34m(self, driver_command, params)\u001b[0m\n\u001b[0;32m    442\u001b[0m response \u001b[39m=\u001b[39m \u001b[39mself\u001b[39m\u001b[39m.\u001b[39mcommand_executor\u001b[39m.\u001b[39mexecute(driver_command, params)\n\u001b[0;32m    443\u001b[0m \u001b[39mif\u001b[39;00m response:\n\u001b[1;32m--> 444\u001b[0m     \u001b[39mself\u001b[39;49m\u001b[39m.\u001b[39;49merror_handler\u001b[39m.\u001b[39;49mcheck_response(response)\n\u001b[0;32m    445\u001b[0m     response[\u001b[39m\"\u001b[39m\u001b[39mvalue\u001b[39m\u001b[39m\"\u001b[39m] \u001b[39m=\u001b[39m \u001b[39mself\u001b[39m\u001b[39m.\u001b[39m_unwrap_value(response\u001b[39m.\u001b[39mget(\u001b[39m\"\u001b[39m\u001b[39mvalue\u001b[39m\u001b[39m\"\u001b[39m, \u001b[39mNone\u001b[39;00m))\n\u001b[0;32m    446\u001b[0m     \u001b[39mreturn\u001b[39;00m response\n",
      "File \u001b[1;32md:\\a\\simply-blog\\.venv\\lib\\site-packages\\selenium\\webdriver\\remote\\errorhandler.py:249\u001b[0m, in \u001b[0;36mErrorHandler.check_response\u001b[1;34m(self, response)\u001b[0m\n\u001b[0;32m    247\u001b[0m         alert_text \u001b[39m=\u001b[39m value[\u001b[39m\"\u001b[39m\u001b[39malert\u001b[39m\u001b[39m\"\u001b[39m]\u001b[39m.\u001b[39mget(\u001b[39m\"\u001b[39m\u001b[39mtext\u001b[39m\u001b[39m\"\u001b[39m)\n\u001b[0;32m    248\u001b[0m     \u001b[39mraise\u001b[39;00m exception_class(message, screen, stacktrace, alert_text)  \u001b[39m# type: ignore[call-arg]  # mypy is not smart enough here\u001b[39;00m\n\u001b[1;32m--> 249\u001b[0m \u001b[39mraise\u001b[39;00m exception_class(message, screen, stacktrace)\n",
      "\u001b[1;31mNoSuchElementException\u001b[0m: Message: no such element: Unable to locate element: {\"method\":\"css selector\",\"selector\":\"#destination-cac_singleLineAddress\"}\n  (Session info: chrome=108.0.5359.125)\nStacktrace:\nBacktrace:\n\t(No symbol) [0x010CF243]\n\t(No symbol) [0x01057FD1]\n\t(No symbol) [0x00F4D04D]\n\t(No symbol) [0x00F7C0B0]\n\t(No symbol) [0x00F7C22B]\n\t(No symbol) [0x00FAE612]\n\t(No symbol) [0x00F985D4]\n\t(No symbol) [0x00FAC9EB]\n\t(No symbol) [0x00F98386]\n\t(No symbol) [0x00F7163C]\n\t(No symbol) [0x00F7269D]\n\tGetHandleVerifier [0x01369A22+2655074]\n\tGetHandleVerifier [0x0135CA24+2601828]\n\tGetHandleVerifier [0x01178C0A+619850]\n\tGetHandleVerifier [0x01177830+614768]\n\t(No symbol) [0x010605FC]\n\t(No symbol) [0x01065968]\n\t(No symbol) [0x01065A55]\n\t(No symbol) [0x0107051B]\n\tBaseThreadInitThunk [0x771EFA29+25]\n\tRtlGetAppContainerNamedObjectPath [0x77337A9E+286]\n\tRtlGetAppContainerNamedObjectPath [0x77337A6E+238]\n"
     ]
    }
   ],
   "source": [
    "\n",
    "driver.driver.find_element(By.CSS_SELECTOR, '#destination-cac_companyOrName').send_keys(name)\n",
    "driver.driver.find_element(By.CSS_SELECTOR, '#destination-cac_contactName').send_keys(company)\n",
    "driver.driver.find_element(By.CSS_SELECTOR,'#destination-cac_email').send_keys(email)\n",
    "driver.driver.find_element(By.CSS_SELECTOR,'#destination-cac_phone').send_keys(phone)\n",
    "driver.driver.find_element(By.CSS_SELECTOR,'#destination-cac_singleLineAddress').send_keys(address)\n",
    "time.sleep(1)\n"
   ]
  },
  {
   "cell_type": "code",
   "execution_count": 17,
   "metadata": {},
   "outputs": [],
   "source": [
    "driver.driver.find_element(By.CSS_SELECTOR,'#nbsPackagePackageWeightField0').send_keys(w)\n",
    "time.sleep(5)\n",
    "driver.driver.find_element(By.CSS_SELECTOR,'#nbsPackagePackageLengthField0').send_keys('20')\n",
    "#time.sleep(1)\n",
    "driver.driver.find_element(By.CSS_SELECTOR,'#nbsPackagePackageWidthField0').send_keys('20')\n",
    "#time.sleep(1)\n",
    "driver.driver.find_element(By.CSS_SELECTOR,'#nbsPackagePackageHeightField0').send_keys('20')\n",
    "#time.sleep(1)\n",
    "driver.driver.find_element(By.CSS_SELECTOR,'#nbsPackageDeclaredValueField0').send_keys('50')\n",
    "#time.sleep(1)\n",
    "driver.driver.find_element(By.CSS_SELECTOR,'#nbsReferenceNumberReference1').send_keys(ref)\n",
    "#time.sleep(1)\n",
    "driver.driver.find_element(By.CSS_SELECTOR,'#nbsShipmentDescription').send_keys('Manicure accessories')\n"
   ]
  },
  {
   "cell_type": "code",
   "execution_count": 18,
   "metadata": {},
   "outputs": [
    {
     "data": {
      "text/plain": [
       "'1Z9ET8176895661098'"
      ]
     },
     "execution_count": 18,
     "metadata": {},
     "output_type": "execute_result"
    }
   ],
   "source": [
    "driver.driver.find_element(By.CSS_SELECTOR,'#nbsConfirmationShipmentOverviewTrackingNumber').text"
   ]
  }
 ],
 "metadata": {
  "kernelspec": {
   "display_name": "Django Shell-Plus",
   "language": "python",
   "name": "django_extensions"
  },
  "language_info": {
   "codemirror_mode": {
    "name": "ipython",
    "version": 3
   },
   "file_extension": ".py",
   "mimetype": "text/x-python",
   "name": "python",
   "nbconvert_exporter": "python",
   "pygments_lexer": "ipython3",
   "version": "3.8.5 (default, Sep  3 2020, 21:29:08) [MSC v.1916 64 bit (AMD64)]"
  },
  "orig_nbformat": 4,
  "vscode": {
   "interpreter": {
    "hash": "10da27bddd3377f40093df844bafe61c564a0568439e5eb1f993e4e158715d8c"
   }
  }
 },
 "nbformat": 4,
 "nbformat_minor": 2
}
